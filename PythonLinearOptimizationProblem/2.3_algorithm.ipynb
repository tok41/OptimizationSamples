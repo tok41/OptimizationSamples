{
 "cells": [
  {
   "cell_type": "markdown",
   "metadata": {},
   "source": [
    "# シンプレックス法のアルゴリズムを実装する"
   ]
  },
  {
   "cell_type": "code",
   "execution_count": 1,
   "metadata": {},
   "outputs": [],
   "source": [
    "import numpy as np\n",
    "import scipy.linalg as linalg"
   ]
  },
  {
   "cell_type": "code",
   "execution_count": 2,
   "metadata": {},
   "outputs": [],
   "source": [
    "MEPS = 1.0e-10"
   ]
  },
  {
   "cell_type": "code",
   "execution_count": 3,
   "metadata": {},
   "outputs": [],
   "source": [
    "def lp_RevisedSimplex(c, A, b):\n",
    "    np.seterr(divide='ignore') # 0割りなどの例外が生じてもエラーを飛ばさない\n",
    "    (m, n) = A.shape\n",
    "    \n",
    "    # 初期化\n",
    "    AI = np.hstack((A, np.identity(m))) # identity:正方単位行列を生成する\n",
    "    c0 = np.r_[c, np.zeros(m)]\n",
    "    basis = [n+i for i in range(m)] # 初期の基底変数のindex\n",
    "    nonbasis = [j for j in range(n)]\n",
    "    \n",
    "    while True:\n",
    "        # ## STEP1:最適性チェック\n",
    "        # 双対変数の値を計算\n",
    "        y = linalg.solve(AI[:, basis].T, c0[basis]) # linalg.solve : 連立方程式を解く\n",
    "        cc = c0[nonbasis] - np.dot(y, AI[:, nonbasis]) # 被約費用ベクトル(reduced cost vector)\n",
    "        # 実行可能解の判定\n",
    "        if np.all(cc <= MEPS): # CC<=0であればyが双対問題の実行可能解\n",
    "            # 最適基底解を出力して終了\n",
    "            x = np.zeros(n+m)\n",
    "            x[basis] = linalg.solve(AI[:, basis], b)\n",
    "            print('Optimal')\n",
    "            print('Optimal value = ', np.dot(c0[basis], x[basis]))\n",
    "            for i in range(m):\n",
    "                print('x', i, '=', x[i])\n",
    "            break\n",
    "        else:\n",
    "            # 出る変数sを選択\n",
    "            s = np.argmax(cc)\n",
    "            \n",
    "        # ## STEP2:非有界性チェック\n",
    "        d = linalg.solve(AI[:,basis], AI[:, nonbasis[s]])\n",
    "        # 非有界性判定\n",
    "        if np.all(d <= MEPS):\n",
    "            # 非有界\n",
    "            print('Unbounded')\n",
    "            break\n",
    "        else:\n",
    "            bb = linalg.solve(AI[:, basis], b)\n",
    "            ratio = bb/d\n",
    "            ratio[ratio<-MEPS] = np.inf\n",
    "            r = np.argmin(ratio)\n",
    "            # STEP3:基底と非基底の入れ替え\n",
    "            nonbasis[s], basis[r] = basis[r], nonbasis[s]"
   ]
  },
  {
   "cell_type": "code",
   "execution_count": 4,
   "metadata": {},
   "outputs": [
    {
     "name": "stdout",
     "output_type": "stream",
     "text": [
      "Optimal\n",
      "Optimal value =  45.0\n",
      "x 0 = 0.0\n",
      "x 1 = 4.999999999999999\n",
      "x 2 = 6.0\n"
     ]
    }
   ],
   "source": [
    "# 例題\n",
    "A = np.array([[2,2,-1], [2,-2,3], [0,2,-1]])\n",
    "c = np.array([4,3,5])\n",
    "b = np.array([6,8,4])\n",
    "\n",
    "lp_RevisedSimplex(c, A, b)"
   ]
  },
  {
   "cell_type": "markdown",
   "metadata": {},
   "source": [
    "# 内点法の実装\n",
    "## 自己双対型線形最適化問題への変換"
   ]
  },
  {
   "cell_type": "code",
   "execution_count": 6,
   "metadata": {},
   "outputs": [],
   "source": [
    "def make_Mq_from_cAb(c, A, b):\n",
    "    \"\"\"\n",
    "    線形最適化問題を決定する行列A, ベクトルc,bを入力し、\n",
    "    自己双対型線形最適化問題を決定する行列M,　ベクトルqを出力する\n",
    "    \"\"\"\n",
    "    m, k = A.shape\n",
    "    m1 = np.hstack((np.zeros((m,m)), -A, b.reshape(m, -1)))\n",
    "    m2 = np.hstack((A.T, np.zeros((k,k)), -c.reshape(k, -1)))\n",
    "    m3 = np.append(np.append(-b, c), 0)\n",
    "    M = np.vstack((m1, m2, m3))\n",
    "    q = np.zeros(m+k+1)\n",
    "    return M, q"
   ]
  },
  {
   "cell_type": "code",
   "execution_count": 8,
   "metadata": {},
   "outputs": [],
   "source": [
    "def make_artProb_initialPoint(M, q):\n",
    "    \"\"\"\n",
    "    自己双対型線形最適化問題を決定する行列M,　ベクトルqから、\n",
    "    それと等価な問題を決定する行列MM、ベクトルqq、初期内点を出力する\n",
    "    \"\"\"\n",
    "    n,n = M.shape\n",
    "    \n",
    "    x0 = np.ones(n)\n",
    "    mu0 = np.dot(q, x0)/(n+1)+1\n",
    "    z0 = mu0/x0\n",
    "    r = z0 - np.dot(M, x0) - q\n",
    "    qn1 = (n+1)*mu0\n",
    "    \n",
    "    MM = np.hstack((M, r.reshape((-1,1))))\n",
    "    MM = np.vstack((MM, np.append(-r, 0)))\n",
    "    qq = np.append(q, qn1)\n",
    "    xx0 = np.append(x0, 1)\n",
    "    zz0 = np.append(z0, mu0)\n",
    "    return MM, qq, xx0, zz0"
   ]
  },
  {
   "cell_type": "code",
   "execution_count": null,
   "metadata": {},
   "outputs": [],
   "source": []
  }
 ],
 "metadata": {
  "kernelspec": {
   "display_name": "Python 3",
   "language": "python",
   "name": "python3"
  },
  "language_info": {
   "codemirror_mode": {
    "name": "ipython",
    "version": 3
   },
   "file_extension": ".py",
   "mimetype": "text/x-python",
   "name": "python",
   "nbconvert_exporter": "python",
   "pygments_lexer": "ipython3",
   "version": "3.6.5"
  },
  "toc": {
   "base_numbering": 1,
   "nav_menu": {},
   "number_sections": true,
   "sideBar": true,
   "skip_h1_title": false,
   "title_cell": "Table of Contents",
   "title_sidebar": "Contents",
   "toc_cell": false,
   "toc_position": {},
   "toc_section_display": true,
   "toc_window_display": false
  }
 },
 "nbformat": 4,
 "nbformat_minor": 2
}
