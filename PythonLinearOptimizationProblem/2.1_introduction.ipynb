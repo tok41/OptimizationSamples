{
 "cells": [
  {
   "cell_type": "markdown",
   "metadata": {},
   "source": [
    "# 2.1 線形最適化問題入門"
   ]
  },
  {
   "cell_type": "markdown",
   "metadata": {},
   "source": [
    "## 2.1節の例題を解く(二次元の例)"
   ]
  },
  {
   "cell_type": "code",
   "execution_count": 1,
   "metadata": {},
   "outputs": [],
   "source": [
    "from pulp import *"
   ]
  },
  {
   "cell_type": "code",
   "execution_count": 2,
   "metadata": {},
   "outputs": [
    {
     "name": "stdout",
     "output_type": "stream",
     "text": [
      "LP-sample:\n",
      "MAXIMIZE\n",
      "2*x1 + 3*x2 + 0\n",
      "SUBJECT TO\n",
      "ineq1: x1 + 3 x2 <= 9\n",
      "\n",
      "ineq2: x1 + x2 <= 4\n",
      "\n",
      "ineq3: x1 + x2 <= 10\n",
      "\n",
      "VARIABLES\n",
      "x1 Continuous\n",
      "x2 Continuous\n",
      "\n",
      "Optimal\n",
      "Optimal Value =  10.5\n",
      "x1 = 1.5\n",
      "x2 = 2.5\n"
     ]
    }
   ],
   "source": [
    "# 問題オブジェクトを生成\n",
    "prob = LpProblem(name='LP-sample', sense=LpMaximize)\n",
    "# 変数を定義\n",
    "x1 = LpVariable('x1', lowBound=0.0)\n",
    "x2 = LpVariable('x2', lowBound=0.0)\n",
    "\n",
    "# 目的関数と制約条件\n",
    "prob += 2*x1 + 3*x2 # 目的関数\n",
    "prob += x1 + 3*x2 <= 9, 'ineq1' # 制約に名前をつけることができる(option)\n",
    "prob += x1 + x2 <= 4, 'ineq2'\n",
    "prob += x1 + x2 <= 10, 'ineq3'\n",
    "print(prob)\n",
    "\n",
    "# 最適化ソルバーで最適化計算\n",
    "prob.solve()\n",
    "\n",
    "# 結果の確認\n",
    "print(LpStatus[prob.status]) # status確認\n",
    "print('Optimal Value = ', value(prob.objective))\n",
    "for v in prob.variables():\n",
    "    print(v.name, '=', value(v))\n"
   ]
  },
  {
   "cell_type": "markdown",
   "metadata": {},
   "source": [
    "## 生産計画問題"
   ]
  },
  {
   "cell_type": "code",
   "execution_count": 3,
   "metadata": {},
   "outputs": [],
   "source": [
    "import numpy as np"
   ]
  },
  {
   "cell_type": "code",
   "execution_count": 4,
   "metadata": {},
   "outputs": [],
   "source": [
    "A = np.array([[3,1,2], [1,3,0], [0,2,4]])\n",
    "c = np.array([150, 200, 300])\n",
    "b = np.array([60, 36, 48])\n",
    "(m,n) = A.shape"
   ]
  },
  {
   "cell_type": "code",
   "execution_count": 5,
   "metadata": {},
   "outputs": [
    {
     "name": "stdout",
     "output_type": "stream",
     "text": [
      "Production:\n",
      "MAXIMIZE\n",
      "150*x1 + 200*x2 + 300*x3 + 0\n",
      "SUBJECT TO\n",
      "ineq0: 3 x1 + x2 + 2 x3 <= 60\n",
      "\n",
      "ineq1: x1 + 3 x2 <= 36\n",
      "\n",
      "ineq2: 2 x2 + 4 x3 <= 48\n",
      "\n",
      "VARIABLES\n",
      "x1 Continuous\n",
      "x2 Continuous\n",
      "x3 Continuous\n",
      "\n",
      "Optimal\n",
      "Optimal Value =  5800.0\n",
      "x1 = 12.0\n",
      "x2 = 8.0\n",
      "x3 = 8.0\n"
     ]
    }
   ],
   "source": [
    "# 問題オブジェクトを生成\n",
    "prob = LpProblem(name='Production', sense=LpMaximize)\n",
    "# 変数を定義\n",
    "x = [LpVariable('x'+str(i+1), lowBound=0) for i in range(n)]\n",
    "\n",
    "# 目的関数と制約条件\n",
    "prob += lpDot(c, x) # 目的関数\n",
    "for i in range(m):\n",
    "    prob += lpDot(A[i], x) <= b[i], 'ineq'+str(i)\n",
    "print(prob)\n",
    "\n",
    "# 最適化ソルバーで最適化計算\n",
    "prob.solve()\n",
    "\n",
    "# 結果の確認\n",
    "print(LpStatus[prob.status]) # status確認\n",
    "print('Optimal Value = ', value(prob.objective))\n",
    "for v in prob.variables():\n",
    "    print(v.name, '=', value(v))"
   ]
  },
  {
   "cell_type": "markdown",
   "metadata": {},
   "source": [
    "# 双対性\n",
    "- 計算結果の最適解が本当に信頼できるのか？という観点で双対性を考える"
   ]
  },
  {
   "cell_type": "code",
   "execution_count": 6,
   "metadata": {},
   "outputs": [
    {
     "data": {
      "text/plain": [
       "True"
      ]
     },
     "execution_count": 6,
     "metadata": {},
     "output_type": "execute_result"
    }
   ],
   "source": [
    "X = np.array([v.varValue for v in prob.variables()]) # 得られた解を列挙したベクトルを作っている\n",
    "np.all(np.abs(b - np.dot(A, X)) <= 1.0e-5)\n",
    "# AとXの内積をとり、bと比較してAX=bが満たされるのかを確認"
   ]
  },
  {
   "cell_type": "markdown",
   "metadata": {},
   "source": [
    "# 双対定理"
   ]
  },
  {
   "cell_type": "code",
   "execution_count": 15,
   "metadata": {},
   "outputs": [
    {
     "name": "stdout",
     "output_type": "stream",
     "text": [
      "Dual_Production:\n",
      "MINIMIZE\n",
      "60*y1 + 36*y2 + 48*y3 + 0\n",
      "SUBJECT TO\n",
      "ineq0: 3 y1 + y2 >= 150\n",
      "\n",
      "ineq1: y1 + 3 y2 + 2 y3 >= 200\n",
      "\n",
      "ineq2: 2 y1 + 4 y3 >= 300\n",
      "\n",
      "VARIABLES\n",
      "y1 Continuous\n",
      "y2 Continuous\n",
      "y3 Continuous\n",
      "\n",
      "Optimal\n",
      "Optimal Value of dual problem =  5799.999996\n",
      "y1 = 44.444444\n",
      "y2 = 16.666667\n",
      "y3 = 52.777778\n"
     ]
    }
   ],
   "source": [
    "# 上記の双対問題を解く\n",
    "AT = A.T\n",
    "\n",
    "# 双対問題のオブジェクトを生成\n",
    "dual = LpProblem(name='Dual_Production', sense=LpMinimize)\n",
    "# 変数を定義\n",
    "y = [LpVariable('y'+str(i+1), lowBound=0) for i in range(m)]\n",
    "\n",
    "# 目的関数と制約条件\n",
    "dual += lpDot(b, y) # 目的関数\n",
    "for j in range(n):\n",
    "    dual += lpDot(AT[j], y) >= c[j], 'ineq'+str(j)\n",
    "print(dual)\n",
    "\n",
    "# 最適化ソルバーで最適化計算\n",
    "dual.solve()\n",
    "\n",
    "# 結果の確認\n",
    "print(LpStatus[dual.status]) # status確認\n",
    "print('Optimal Value of dual problem = ', value(dual.objective))\n",
    "for v in dual.variables():\n",
    "    print(v.name, '=', v.varValue)"
   ]
  },
  {
   "cell_type": "code",
   "execution_count": 16,
   "metadata": {},
   "outputs": [
    {
     "data": {
      "text/plain": [
       "True"
      ]
     },
     "execution_count": 16,
     "metadata": {},
     "output_type": "execute_result"
    }
   ],
   "source": [
    "Y = np.array([v.varValue for v in dual.variables()])\n",
    "np.all(np.abs(np.dot(AT, Y) - c) <= 1.0e-5)"
   ]
  },
  {
   "cell_type": "code",
   "execution_count": null,
   "metadata": {},
   "outputs": [],
   "source": []
  }
 ],
 "metadata": {
  "kernelspec": {
   "display_name": "Python 3",
   "language": "python",
   "name": "python3"
  },
  "language_info": {
   "codemirror_mode": {
    "name": "ipython",
    "version": 3
   },
   "file_extension": ".py",
   "mimetype": "text/x-python",
   "name": "python",
   "nbconvert_exporter": "python",
   "pygments_lexer": "ipython3",
   "version": "3.6.5"
  },
  "toc": {
   "base_numbering": 1,
   "nav_menu": {},
   "number_sections": true,
   "sideBar": true,
   "skip_h1_title": false,
   "title_cell": "Table of Contents",
   "title_sidebar": "Contents",
   "toc_cell": false,
   "toc_position": {},
   "toc_section_display": true,
   "toc_window_display": true
  }
 },
 "nbformat": 4,
 "nbformat_minor": 2
}
